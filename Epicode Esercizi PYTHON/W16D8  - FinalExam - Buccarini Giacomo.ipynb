{
 "cells": [
  {
   "cell_type": "markdown",
   "id": "9bd5095b-c435-4bf0-b38c-3f33804a73f6",
   "metadata": {},
   "source": [
    "1)Analisi diffusione COVID-19 nel mondo Il committente richiede di avere un report su casi e vaccinazioni in diverse aree del mondo; a tal fine, richiede di utilizzare il dataset, curato da Our World in Data, all'indirizzo https://github.com/owid/covid-19-data/tree/master/public/data; alla voce \"🗂 Download our complete COVID-19 dataset\" scaricare il dataset nel formato che si preferisce. \n",
    "\n",
    "2)•Si richiede di verificare le dimensioni del dataset e i relativi metadati; \n",
    "\n",
    "3)•Si chiede poi per ogni continente di trovare il numero di casi totali avvenuti in quello stesso continente; si chiede di non considerare eventuali locazioni che nel dataset non appartengono ad alcun continente; \n",
    "\n",
    "4)•Sempre riguardo i casi totali, si chiede di scrivere del codice che, date due variabili contenenti i nomi di continenti, ne confronti i seguenti relativi descrittori statistici: valore massimo, media, e percentuale rispetto al numero dei casi totali nel mondo (calcolati anche sulle locazioni senza indicazione di continente); \n",
    "\n",
    "5)•Selezionare i dati relativi all'Italia nel 2022, e mostrare con un grafico adeguato l'evoluzione del casi totali rispetto alla data. \n",
    "    II)Mostrare poi con un grafico adeguato il numero di nuovi casi rispetto alla data (filtrare i dati se necessario). \n",
    "    III)Mostrare infine un grafico che mostra l'andamento della somma cumulativa nuovi casi del 2022, e commentare se ci sono similarità con l'andamento del numero dei casi totali; \n",
    "\n",
    "6)•Riguardo le nazioni di Italia, Germania e Francia, mostrare in un boxplot la differenza tra queste nazioni riguardo il numero di pazienti in terapia intensiva (Intensive Care Unit, ICU) da maggio 2022 (incluso) ad aprile 2023 (incluso), e scrivere un breve commento a riguardo; \n",
    "\n",
    "7)•Riguardo le nazioni di Italia, Germania, Francia e Spagna nel 2023, mostrare la somma dei pazienti ospitalizzati per ognuna — se ci sono dati nulli, suggerire se può essere possibile gestirli tramite sostituzione o meno."
   ]
  },
  {
   "cell_type": "code",
   "execution_count": 1,
   "id": "570836e9-c931-4062-bd09-36e169a551a8",
   "metadata": {},
   "outputs": [],
   "source": [
    "#1\n",
    "import pandas as pd\n",
    "import numpy as np\n",
    "import seaborn as sns\n",
    "covid = pd.read_csv(\"owid-covid-data.csv\")"
   ]
  },
  {
   "cell_type": "code",
   "execution_count": 2,
   "id": "e7efee98-3dcd-47c7-8950-185bcdde0c8b",
   "metadata": {},
   "outputs": [
    {
     "data": {
      "text/plain": [
       "(384045, 67)"
      ]
     },
     "execution_count": 2,
     "metadata": {},
     "output_type": "execute_result"
    }
   ],
   "source": [
    "#2\n",
    "covid.shape"
   ]
  },
  {
   "cell_type": "code",
   "execution_count": 3,
   "id": "0b3f897c-67c7-48e7-8817-a04a1fe03e0c",
   "metadata": {},
   "outputs": [
    {
     "data": {
      "text/plain": [
       "Index(['iso_code', 'continent', 'location', 'date', 'total_cases', 'new_cases',\n",
       "       'new_cases_smoothed', 'total_deaths', 'new_deaths',\n",
       "       'new_deaths_smoothed', 'total_cases_per_million',\n",
       "       'new_cases_per_million', 'new_cases_smoothed_per_million',\n",
       "       'total_deaths_per_million', 'new_deaths_per_million',\n",
       "       'new_deaths_smoothed_per_million', 'reproduction_rate', 'icu_patients',\n",
       "       'icu_patients_per_million', 'hosp_patients',\n",
       "       'hosp_patients_per_million', 'weekly_icu_admissions',\n",
       "       'weekly_icu_admissions_per_million', 'weekly_hosp_admissions',\n",
       "       'weekly_hosp_admissions_per_million', 'total_tests', 'new_tests',\n",
       "       'total_tests_per_thousand', 'new_tests_per_thousand',\n",
       "       'new_tests_smoothed', 'new_tests_smoothed_per_thousand',\n",
       "       'positive_rate', 'tests_per_case', 'tests_units', 'total_vaccinations',\n",
       "       'people_vaccinated', 'people_fully_vaccinated', 'total_boosters',\n",
       "       'new_vaccinations', 'new_vaccinations_smoothed',\n",
       "       'total_vaccinations_per_hundred', 'people_vaccinated_per_hundred',\n",
       "       'people_fully_vaccinated_per_hundred', 'total_boosters_per_hundred',\n",
       "       'new_vaccinations_smoothed_per_million',\n",
       "       'new_people_vaccinated_smoothed',\n",
       "       'new_people_vaccinated_smoothed_per_hundred', 'stringency_index',\n",
       "       'population_density', 'median_age', 'aged_65_older', 'aged_70_older',\n",
       "       'gdp_per_capita', 'extreme_poverty', 'cardiovasc_death_rate',\n",
       "       'diabetes_prevalence', 'female_smokers', 'male_smokers',\n",
       "       'handwashing_facilities', 'hospital_beds_per_thousand',\n",
       "       'life_expectancy', 'human_development_index', 'population',\n",
       "       'excess_mortality_cumulative_absolute', 'excess_mortality_cumulative',\n",
       "       'excess_mortality', 'excess_mortality_cumulative_per_million'],\n",
       "      dtype='object')"
      ]
     },
     "execution_count": 3,
     "metadata": {},
     "output_type": "execute_result"
    }
   ],
   "source": [
    "covid.columns"
   ]
  },
  {
   "cell_type": "code",
   "execution_count": 4,
   "id": "eeb7e577-1531-4605-a7f1-e84784c2c128",
   "metadata": {},
   "outputs": [
    {
     "data": {
      "text/html": [
       "<div>\n",
       "<style scoped>\n",
       "    .dataframe tbody tr th:only-of-type {\n",
       "        vertical-align: middle;\n",
       "    }\n",
       "\n",
       "    .dataframe tbody tr th {\n",
       "        vertical-align: top;\n",
       "    }\n",
       "\n",
       "    .dataframe thead th {\n",
       "        text-align: right;\n",
       "    }\n",
       "</style>\n",
       "<table border=\"1\" class=\"dataframe\">\n",
       "  <thead>\n",
       "    <tr style=\"text-align: right;\">\n",
       "      <th></th>\n",
       "      <th>iso_code</th>\n",
       "      <th>continent</th>\n",
       "      <th>location</th>\n",
       "      <th>date</th>\n",
       "      <th>total_cases</th>\n",
       "      <th>new_cases</th>\n",
       "      <th>new_cases_smoothed</th>\n",
       "      <th>total_deaths</th>\n",
       "      <th>new_deaths</th>\n",
       "      <th>new_deaths_smoothed</th>\n",
       "      <th>...</th>\n",
       "      <th>male_smokers</th>\n",
       "      <th>handwashing_facilities</th>\n",
       "      <th>hospital_beds_per_thousand</th>\n",
       "      <th>life_expectancy</th>\n",
       "      <th>human_development_index</th>\n",
       "      <th>population</th>\n",
       "      <th>excess_mortality_cumulative_absolute</th>\n",
       "      <th>excess_mortality_cumulative</th>\n",
       "      <th>excess_mortality</th>\n",
       "      <th>excess_mortality_cumulative_per_million</th>\n",
       "    </tr>\n",
       "  </thead>\n",
       "  <tbody>\n",
       "    <tr>\n",
       "      <th>99604</th>\n",
       "      <td>GNQ</td>\n",
       "      <td>Africa</td>\n",
       "      <td>Equatorial Guinea</td>\n",
       "      <td>2022-03-29</td>\n",
       "      <td>15903.0</td>\n",
       "      <td>0.0</td>\n",
       "      <td>14.714</td>\n",
       "      <td>183.0</td>\n",
       "      <td>0.0</td>\n",
       "      <td>0.000</td>\n",
       "      <td>...</td>\n",
       "      <td>NaN</td>\n",
       "      <td>24.640</td>\n",
       "      <td>2.1</td>\n",
       "      <td>58.74</td>\n",
       "      <td>0.592</td>\n",
       "      <td>1674916.0</td>\n",
       "      <td>NaN</td>\n",
       "      <td>NaN</td>\n",
       "      <td>NaN</td>\n",
       "      <td>NaN</td>\n",
       "    </tr>\n",
       "    <tr>\n",
       "      <th>26797</th>\n",
       "      <td>BHR</td>\n",
       "      <td>Asia</td>\n",
       "      <td>Bahrain</td>\n",
       "      <td>2022-07-13</td>\n",
       "      <td>638475.0</td>\n",
       "      <td>0.0</td>\n",
       "      <td>1390.286</td>\n",
       "      <td>1498.0</td>\n",
       "      <td>0.0</td>\n",
       "      <td>0.571</td>\n",
       "      <td>...</td>\n",
       "      <td>37.6</td>\n",
       "      <td>NaN</td>\n",
       "      <td>2.0</td>\n",
       "      <td>77.29</td>\n",
       "      <td>0.852</td>\n",
       "      <td>1472237.0</td>\n",
       "      <td>NaN</td>\n",
       "      <td>NaN</td>\n",
       "      <td>NaN</td>\n",
       "      <td>NaN</td>\n",
       "    </tr>\n",
       "    <tr>\n",
       "      <th>194535</th>\n",
       "      <td>OWID_LIC</td>\n",
       "      <td>NaN</td>\n",
       "      <td>Low income</td>\n",
       "      <td>2023-09-22</td>\n",
       "      <td>2318415.0</td>\n",
       "      <td>0.0</td>\n",
       "      <td>39.143</td>\n",
       "      <td>47989.0</td>\n",
       "      <td>0.0</td>\n",
       "      <td>0.000</td>\n",
       "      <td>...</td>\n",
       "      <td>NaN</td>\n",
       "      <td>NaN</td>\n",
       "      <td>NaN</td>\n",
       "      <td>NaN</td>\n",
       "      <td>NaN</td>\n",
       "      <td>737604900.0</td>\n",
       "      <td>NaN</td>\n",
       "      <td>NaN</td>\n",
       "      <td>NaN</td>\n",
       "      <td>NaN</td>\n",
       "    </tr>\n",
       "    <tr>\n",
       "      <th>325909</th>\n",
       "      <td>LKA</td>\n",
       "      <td>Asia</td>\n",
       "      <td>Sri Lanka</td>\n",
       "      <td>2022-01-16</td>\n",
       "      <td>596347.0</td>\n",
       "      <td>4680.0</td>\n",
       "      <td>668.571</td>\n",
       "      <td>15211.0</td>\n",
       "      <td>92.0</td>\n",
       "      <td>13.143</td>\n",
       "      <td>...</td>\n",
       "      <td>27.0</td>\n",
       "      <td>NaN</td>\n",
       "      <td>3.6</td>\n",
       "      <td>76.98</td>\n",
       "      <td>0.782</td>\n",
       "      <td>21832150.0</td>\n",
       "      <td>NaN</td>\n",
       "      <td>NaN</td>\n",
       "      <td>NaN</td>\n",
       "      <td>NaN</td>\n",
       "    </tr>\n",
       "    <tr>\n",
       "      <th>31795</th>\n",
       "      <td>BLR</td>\n",
       "      <td>Europe</td>\n",
       "      <td>Belarus</td>\n",
       "      <td>2023-08-31</td>\n",
       "      <td>994037.0</td>\n",
       "      <td>0.0</td>\n",
       "      <td>0.000</td>\n",
       "      <td>7118.0</td>\n",
       "      <td>0.0</td>\n",
       "      <td>0.000</td>\n",
       "      <td>...</td>\n",
       "      <td>46.1</td>\n",
       "      <td>NaN</td>\n",
       "      <td>11.0</td>\n",
       "      <td>74.79</td>\n",
       "      <td>0.823</td>\n",
       "      <td>9534956.0</td>\n",
       "      <td>NaN</td>\n",
       "      <td>NaN</td>\n",
       "      <td>NaN</td>\n",
       "      <td>NaN</td>\n",
       "    </tr>\n",
       "    <tr>\n",
       "      <th>881</th>\n",
       "      <td>AFG</td>\n",
       "      <td>Asia</td>\n",
       "      <td>Afghanistan</td>\n",
       "      <td>2022-06-04</td>\n",
       "      <td>180123.0</td>\n",
       "      <td>0.0</td>\n",
       "      <td>64.143</td>\n",
       "      <td>7701.0</td>\n",
       "      <td>0.0</td>\n",
       "      <td>0.571</td>\n",
       "      <td>...</td>\n",
       "      <td>NaN</td>\n",
       "      <td>37.746</td>\n",
       "      <td>0.5</td>\n",
       "      <td>64.83</td>\n",
       "      <td>0.511</td>\n",
       "      <td>41128772.0</td>\n",
       "      <td>NaN</td>\n",
       "      <td>NaN</td>\n",
       "      <td>NaN</td>\n",
       "      <td>NaN</td>\n",
       "    </tr>\n",
       "    <tr>\n",
       "      <th>335699</th>\n",
       "      <td>TJK</td>\n",
       "      <td>Asia</td>\n",
       "      <td>Tajikistan</td>\n",
       "      <td>2020-02-14</td>\n",
       "      <td>NaN</td>\n",
       "      <td>0.0</td>\n",
       "      <td>0.000</td>\n",
       "      <td>NaN</td>\n",
       "      <td>0.0</td>\n",
       "      <td>0.000</td>\n",
       "      <td>...</td>\n",
       "      <td>NaN</td>\n",
       "      <td>72.704</td>\n",
       "      <td>4.8</td>\n",
       "      <td>71.10</td>\n",
       "      <td>0.668</td>\n",
       "      <td>9952789.0</td>\n",
       "      <td>NaN</td>\n",
       "      <td>NaN</td>\n",
       "      <td>NaN</td>\n",
       "      <td>NaN</td>\n",
       "    </tr>\n",
       "    <tr>\n",
       "      <th>247484</th>\n",
       "      <td>PRK</td>\n",
       "      <td>Asia</td>\n",
       "      <td>North Korea</td>\n",
       "      <td>2020-07-07</td>\n",
       "      <td>NaN</td>\n",
       "      <td>0.0</td>\n",
       "      <td>0.000</td>\n",
       "      <td>NaN</td>\n",
       "      <td>0.0</td>\n",
       "      <td>0.000</td>\n",
       "      <td>...</td>\n",
       "      <td>NaN</td>\n",
       "      <td>NaN</td>\n",
       "      <td>13.2</td>\n",
       "      <td>72.27</td>\n",
       "      <td>NaN</td>\n",
       "      <td>26069416.0</td>\n",
       "      <td>NaN</td>\n",
       "      <td>NaN</td>\n",
       "      <td>NaN</td>\n",
       "      <td>NaN</td>\n",
       "    </tr>\n",
       "  </tbody>\n",
       "</table>\n",
       "<p>8 rows × 67 columns</p>\n",
       "</div>"
      ],
      "text/plain": [
       "        iso_code continent           location        date  total_cases  \\\n",
       "99604        GNQ    Africa  Equatorial Guinea  2022-03-29      15903.0   \n",
       "26797        BHR      Asia            Bahrain  2022-07-13     638475.0   \n",
       "194535  OWID_LIC       NaN         Low income  2023-09-22    2318415.0   \n",
       "325909       LKA      Asia          Sri Lanka  2022-01-16     596347.0   \n",
       "31795        BLR    Europe            Belarus  2023-08-31     994037.0   \n",
       "881          AFG      Asia        Afghanistan  2022-06-04     180123.0   \n",
       "335699       TJK      Asia         Tajikistan  2020-02-14          NaN   \n",
       "247484       PRK      Asia        North Korea  2020-07-07          NaN   \n",
       "\n",
       "        new_cases  new_cases_smoothed  total_deaths  new_deaths  \\\n",
       "99604         0.0              14.714         183.0         0.0   \n",
       "26797         0.0            1390.286        1498.0         0.0   \n",
       "194535        0.0              39.143       47989.0         0.0   \n",
       "325909     4680.0             668.571       15211.0        92.0   \n",
       "31795         0.0               0.000        7118.0         0.0   \n",
       "881           0.0              64.143        7701.0         0.0   \n",
       "335699        0.0               0.000           NaN         0.0   \n",
       "247484        0.0               0.000           NaN         0.0   \n",
       "\n",
       "        new_deaths_smoothed  ...  male_smokers  handwashing_facilities  \\\n",
       "99604                 0.000  ...           NaN                  24.640   \n",
       "26797                 0.571  ...          37.6                     NaN   \n",
       "194535                0.000  ...           NaN                     NaN   \n",
       "325909               13.143  ...          27.0                     NaN   \n",
       "31795                 0.000  ...          46.1                     NaN   \n",
       "881                   0.571  ...           NaN                  37.746   \n",
       "335699                0.000  ...           NaN                  72.704   \n",
       "247484                0.000  ...           NaN                     NaN   \n",
       "\n",
       "        hospital_beds_per_thousand  life_expectancy  human_development_index  \\\n",
       "99604                          2.1            58.74                    0.592   \n",
       "26797                          2.0            77.29                    0.852   \n",
       "194535                         NaN              NaN                      NaN   \n",
       "325909                         3.6            76.98                    0.782   \n",
       "31795                         11.0            74.79                    0.823   \n",
       "881                            0.5            64.83                    0.511   \n",
       "335699                         4.8            71.10                    0.668   \n",
       "247484                        13.2            72.27                      NaN   \n",
       "\n",
       "         population  excess_mortality_cumulative_absolute  \\\n",
       "99604     1674916.0                                   NaN   \n",
       "26797     1472237.0                                   NaN   \n",
       "194535  737604900.0                                   NaN   \n",
       "325909   21832150.0                                   NaN   \n",
       "31795     9534956.0                                   NaN   \n",
       "881      41128772.0                                   NaN   \n",
       "335699    9952789.0                                   NaN   \n",
       "247484   26069416.0                                   NaN   \n",
       "\n",
       "        excess_mortality_cumulative  excess_mortality  \\\n",
       "99604                           NaN               NaN   \n",
       "26797                           NaN               NaN   \n",
       "194535                          NaN               NaN   \n",
       "325909                          NaN               NaN   \n",
       "31795                           NaN               NaN   \n",
       "881                             NaN               NaN   \n",
       "335699                          NaN               NaN   \n",
       "247484                          NaN               NaN   \n",
       "\n",
       "        excess_mortality_cumulative_per_million  \n",
       "99604                                       NaN  \n",
       "26797                                       NaN  \n",
       "194535                                      NaN  \n",
       "325909                                      NaN  \n",
       "31795                                       NaN  \n",
       "881                                         NaN  \n",
       "335699                                      NaN  \n",
       "247484                                      NaN  \n",
       "\n",
       "[8 rows x 67 columns]"
      ]
     },
     "execution_count": 4,
     "metadata": {},
     "output_type": "execute_result"
    }
   ],
   "source": [
    "covid.sample(8)"
   ]
  },
  {
   "cell_type": "code",
   "execution_count": 74,
   "id": "91fdb596-6740-485d-83bb-5011f14d26db",
   "metadata": {},
   "outputs": [
    {
     "name": "stdout",
     "output_type": "stream",
     "text": [
      "<class 'pandas.core.frame.DataFrame'>\n",
      "RangeIndex: 384045 entries, 0 to 384044\n",
      "Data columns (total 68 columns):\n",
      " #   Column                                      Non-Null Count   Dtype         \n",
      "---  ------                                      --------------   -----         \n",
      " 0   iso_code                                    384045 non-null  object        \n",
      " 1   continent                                   365596 non-null  object        \n",
      " 2   location                                    384045 non-null  object        \n",
      " 3   date                                        384045 non-null  datetime64[ns]\n",
      " 4   total_cases                                 344917 non-null  float64       \n",
      " 5   new_cases                                   372892 non-null  float64       \n",
      " 6   new_cases_smoothed                          371662 non-null  float64       \n",
      " 7   total_deaths                                322777 non-null  float64       \n",
      " 8   new_deaths                                  373187 non-null  float64       \n",
      " 9   new_deaths_smoothed                         371957 non-null  float64       \n",
      " 10  total_cases_per_million                     344917 non-null  float64       \n",
      " 11  new_cases_per_million                       372892 non-null  float64       \n",
      " 12  new_cases_smoothed_per_million              371662 non-null  float64       \n",
      " 13  total_deaths_per_million                    322777 non-null  float64       \n",
      " 14  new_deaths_per_million                      373187 non-null  float64       \n",
      " 15  new_deaths_smoothed_per_million             371957 non-null  float64       \n",
      " 16  reproduction_rate                           184817 non-null  float64       \n",
      " 17  icu_patients                                38624 non-null   float64       \n",
      " 18  icu_patients_per_million                    38624 non-null   float64       \n",
      " 19  hosp_patients                               40156 non-null   float64       \n",
      " 20  hosp_patients_per_million                   40156 non-null   float64       \n",
      " 21  weekly_icu_admissions                       10673 non-null   float64       \n",
      " 22  weekly_icu_admissions_per_million           10673 non-null   float64       \n",
      " 23  weekly_hosp_admissions                      24148 non-null   float64       \n",
      " 24  weekly_hosp_admissions_per_million          24148 non-null   float64       \n",
      " 25  total_tests                                 79387 non-null   float64       \n",
      " 26  new_tests                                   75403 non-null   float64       \n",
      " 27  total_tests_per_thousand                    79387 non-null   float64       \n",
      " 28  new_tests_per_thousand                      75403 non-null   float64       \n",
      " 29  new_tests_smoothed                          103965 non-null  float64       \n",
      " 30  new_tests_smoothed_per_thousand             103965 non-null  float64       \n",
      " 31  positive_rate                               95927 non-null   float64       \n",
      " 32  tests_per_case                              94348 non-null   float64       \n",
      " 33  tests_units                                 106788 non-null  object        \n",
      " 34  total_vaccinations                          83223 non-null   float64       \n",
      " 35  people_vaccinated                           79111 non-null   float64       \n",
      " 36  people_fully_vaccinated                     75991 non-null   float64       \n",
      " 37  total_boosters                              51412 non-null   float64       \n",
      " 38  new_vaccinations                            68969 non-null   float64       \n",
      " 39  new_vaccinations_smoothed                   189923 non-null  float64       \n",
      " 40  total_vaccinations_per_hundred              83223 non-null   float64       \n",
      " 41  people_vaccinated_per_hundred               79111 non-null   float64       \n",
      " 42  people_fully_vaccinated_per_hundred         75991 non-null   float64       \n",
      " 43  total_boosters_per_hundred                  51412 non-null   float64       \n",
      " 44  new_vaccinations_smoothed_per_million       189923 non-null  float64       \n",
      " 45  new_people_vaccinated_smoothed              187299 non-null  float64       \n",
      " 46  new_people_vaccinated_smoothed_per_hundred  187299 non-null  float64       \n",
      " 47  stringency_index                            197292 non-null  float64       \n",
      " 48  population_density                          326426 non-null  float64       \n",
      " 49  median_age                                  303455 non-null  float64       \n",
      " 50  aged_65_older                               292986 non-null  float64       \n",
      " 51  aged_70_older                               300415 non-null  float64       \n",
      " 52  gdp_per_capita                              297527 non-null  float64       \n",
      " 53  extreme_poverty                             191793 non-null  float64       \n",
      " 54  cardiovasc_death_rate                       298103 non-null  float64       \n",
      " 55  diabetes_prevalence                         313471 non-null  float64       \n",
      " 56  female_smokers                              223795 non-null  float64       \n",
      " 57  male_smokers                                220755 non-null  float64       \n",
      " 58  handwashing_facilities                      146016 non-null  float64       \n",
      " 59  hospital_beds_per_thousand                  263315 non-null  float64       \n",
      " 60  life_expectancy                             353615 non-null  float64       \n",
      " 61  human_development_index                     289142 non-null  float64       \n",
      " 62  population                                  384045 non-null  float64       \n",
      " 63  excess_mortality_cumulative_absolute        13172 non-null   float64       \n",
      " 64  excess_mortality_cumulative                 13172 non-null   float64       \n",
      " 65  excess_mortality                            13172 non-null   float64       \n",
      " 66  excess_mortality_cumulative_per_million     13172 non-null   float64       \n",
      " 67  progressivo                                 372892 non-null  float64       \n",
      "dtypes: datetime64[ns](1), float64(63), object(4)\n",
      "memory usage: 199.2+ MB\n"
     ]
    }
   ],
   "source": [
    "covid.info()"
   ]
  },
  {
   "cell_type": "code",
   "execution_count": 73,
   "id": "e7f0de86-6a3c-4f82-81c4-e9fdd96447b3",
   "metadata": {},
   "outputs": [
    {
     "data": {
      "text/plain": [
       "continent\n",
       "Africa            13140432.0\n",
       "Asia             301426766.0\n",
       "Europe           252322670.0\n",
       "North America    124525279.0\n",
       "Oceania           14791186.0\n",
       "South America     68695341.0\n",
       "Name: new_cases, dtype: float64"
      ]
     },
     "execution_count": 73,
     "metadata": {},
     "output_type": "execute_result"
    }
   ],
   "source": [
    "#3\n",
    "continente_correct = covid.dropna(subset=[\"continent\"])\n",
    "tot_x_cont = continente_correct.groupby(\"continent\")[\"new_cases\"].sum()\n",
    "tot_x_cont"
   ]
  },
  {
   "cell_type": "code",
   "execution_count": 70,
   "id": "ea120bd2-c597-4e9b-928d-727403ac6fdb",
   "metadata": {},
   "outputs": [
    {
     "data": {
      "text/plain": [
       "2417043.0"
      ]
     },
     "execution_count": 70,
     "metadata": {},
     "output_type": "execute_result"
    }
   ],
   "source": [
    "#4\n",
    "continenti = covid[\"continent\"].unique()\n",
    "continenti\n",
    "eu=covid.continent == \"Europe\"\n",
    "eu1=covid.loc[eu]\n",
    "#max EU\n",
    "eu1[\"new_cases\"].max()"
   ]
  },
  {
   "cell_type": "code",
   "execution_count": 71,
   "id": "626c1c5f-80b0-4b53-8bc6-96fe992da8e5",
   "metadata": {},
   "outputs": [
    {
     "data": {
      "text/plain": [
       "3285.5369931508635"
      ]
     },
     "execution_count": 71,
     "metadata": {},
     "output_type": "execute_result"
    }
   ],
   "source": [
    "#media EU\n",
    "eu1[\"new_cases\"].mean()"
   ]
  },
  {
   "cell_type": "code",
   "execution_count": 72,
   "id": "fcb54edb-30b2-4b1f-a917-b75fbe4a6228",
   "metadata": {},
   "outputs": [
    {
     "data": {
      "text/plain": [
       "7.683450118397602"
      ]
     },
     "execution_count": 72,
     "metadata": {},
     "output_type": "execute_result"
    }
   ],
   "source": [
    "# % EU\n",
    "eu1[\"new_cases\"].sum()/covid[\"new_cases\"].sum()*100"
   ]
  },
  {
   "cell_type": "code",
   "execution_count": 47,
   "id": "3aae4a57-b34f-4219-bc46-edad03223e97",
   "metadata": {},
   "outputs": [
    {
     "data": {
      "text/plain": [
       "40475477.0"
      ]
     },
     "execution_count": 47,
     "metadata": {},
     "output_type": "execute_result"
    }
   ],
   "source": [
    "asi=covid.continent == \"Asia\"\n",
    "as1=covid.loc[asi]\n",
    "# max Asia\n",
    "as1[\"new_cases\"].max()"
   ]
  },
  {
   "cell_type": "code",
   "execution_count": 50,
   "id": "72c6a9e9-0353-41da-9f5a-84db3f0de917",
   "metadata": {},
   "outputs": [
    {
     "data": {
      "text/plain": [
       "4219.476825734563"
      ]
     },
     "execution_count": 50,
     "metadata": {},
     "output_type": "execute_result"
    }
   ],
   "source": [
    "#media Asia\n",
    "as1[\"new_cases\"].mean()"
   ]
  },
  {
   "cell_type": "code",
   "execution_count": 51,
   "id": "4422e35e-13d6-4456-a146-82c9bd989636",
   "metadata": {},
   "outputs": [
    {
     "data": {
      "text/plain": [
       "9.17871359284089"
      ]
     },
     "execution_count": 51,
     "metadata": {},
     "output_type": "execute_result"
    }
   ],
   "source": [
    "# % Asia\n",
    "as1[\"new_cases\"].sum()/covid[\"new_cases\"].sum()*100"
   ]
  },
  {
   "cell_type": "code",
   "execution_count": 9,
   "id": "cf1dc541-d8d6-4b76-8acd-7a5166c5627d",
   "metadata": {},
   "outputs": [
    {
     "data": {
      "text/plain": [
       "iso_code                                           object\n",
       "continent                                          object\n",
       "location                                           object\n",
       "date                                       datetime64[ns]\n",
       "total_cases                                       float64\n",
       "                                                ...      \n",
       "population                                        float64\n",
       "excess_mortality_cumulative_absolute              float64\n",
       "excess_mortality_cumulative                       float64\n",
       "excess_mortality                                  float64\n",
       "excess_mortality_cumulative_per_million           float64\n",
       "Length: 67, dtype: object"
      ]
     },
     "execution_count": 9,
     "metadata": {},
     "output_type": "execute_result"
    }
   ],
   "source": [
    "#5\n",
    "covid.date=pd.to_datetime(covid.date)\n",
    "covid.dtypes"
   ]
  },
  {
   "cell_type": "code",
   "execution_count": 10,
   "id": "7ce3b1d8-f54c-45de-81d7-dc9e3c9299b4",
   "metadata": {},
   "outputs": [
    {
     "data": {
      "text/html": [
       "<div>\n",
       "<style scoped>\n",
       "    .dataframe tbody tr th:only-of-type {\n",
       "        vertical-align: middle;\n",
       "    }\n",
       "\n",
       "    .dataframe tbody tr th {\n",
       "        vertical-align: top;\n",
       "    }\n",
       "\n",
       "    .dataframe thead th {\n",
       "        text-align: right;\n",
       "    }\n",
       "</style>\n",
       "<table border=\"1\" class=\"dataframe\">\n",
       "  <thead>\n",
       "    <tr style=\"text-align: right;\">\n",
       "      <th></th>\n",
       "      <th>iso_code</th>\n",
       "      <th>continent</th>\n",
       "      <th>location</th>\n",
       "      <th>date</th>\n",
       "      <th>total_cases</th>\n",
       "      <th>new_cases</th>\n",
       "      <th>new_cases_smoothed</th>\n",
       "      <th>total_deaths</th>\n",
       "      <th>new_deaths</th>\n",
       "      <th>new_deaths_smoothed</th>\n",
       "      <th>...</th>\n",
       "      <th>male_smokers</th>\n",
       "      <th>handwashing_facilities</th>\n",
       "      <th>hospital_beds_per_thousand</th>\n",
       "      <th>life_expectancy</th>\n",
       "      <th>human_development_index</th>\n",
       "      <th>population</th>\n",
       "      <th>excess_mortality_cumulative_absolute</th>\n",
       "      <th>excess_mortality_cumulative</th>\n",
       "      <th>excess_mortality</th>\n",
       "      <th>excess_mortality_cumulative_per_million</th>\n",
       "    </tr>\n",
       "  </thead>\n",
       "  <tbody>\n",
       "    <tr>\n",
       "      <th>164983</th>\n",
       "      <td>ITA</td>\n",
       "      <td>Europe</td>\n",
       "      <td>Italy</td>\n",
       "      <td>2022-01-01</td>\n",
       "      <td>5622431.0</td>\n",
       "      <td>0.0</td>\n",
       "      <td>36797.000</td>\n",
       "      <td>136530.0</td>\n",
       "      <td>0.0</td>\n",
       "      <td>140.857</td>\n",
       "      <td>...</td>\n",
       "      <td>27.8</td>\n",
       "      <td>NaN</td>\n",
       "      <td>3.18</td>\n",
       "      <td>83.51</td>\n",
       "      <td>0.892</td>\n",
       "      <td>59037472.0</td>\n",
       "      <td>NaN</td>\n",
       "      <td>NaN</td>\n",
       "      <td>NaN</td>\n",
       "      <td>NaN</td>\n",
       "    </tr>\n",
       "    <tr>\n",
       "      <th>164984</th>\n",
       "      <td>ITA</td>\n",
       "      <td>Europe</td>\n",
       "      <td>Italy</td>\n",
       "      <td>2022-01-02</td>\n",
       "      <td>6267035.0</td>\n",
       "      <td>644604.0</td>\n",
       "      <td>92086.286</td>\n",
       "      <td>137513.0</td>\n",
       "      <td>983.0</td>\n",
       "      <td>140.429</td>\n",
       "      <td>...</td>\n",
       "      <td>27.8</td>\n",
       "      <td>NaN</td>\n",
       "      <td>3.18</td>\n",
       "      <td>83.51</td>\n",
       "      <td>0.892</td>\n",
       "      <td>59037472.0</td>\n",
       "      <td>168226.3</td>\n",
       "      <td>12.99</td>\n",
       "      <td>8.06</td>\n",
       "      <td>2849.4834</td>\n",
       "    </tr>\n",
       "    <tr>\n",
       "      <th>164985</th>\n",
       "      <td>ITA</td>\n",
       "      <td>Europe</td>\n",
       "      <td>Italy</td>\n",
       "      <td>2022-01-03</td>\n",
       "      <td>6267035.0</td>\n",
       "      <td>0.0</td>\n",
       "      <td>92086.286</td>\n",
       "      <td>137513.0</td>\n",
       "      <td>0.0</td>\n",
       "      <td>140.429</td>\n",
       "      <td>...</td>\n",
       "      <td>27.8</td>\n",
       "      <td>NaN</td>\n",
       "      <td>3.18</td>\n",
       "      <td>83.51</td>\n",
       "      <td>0.892</td>\n",
       "      <td>59037472.0</td>\n",
       "      <td>NaN</td>\n",
       "      <td>NaN</td>\n",
       "      <td>NaN</td>\n",
       "      <td>NaN</td>\n",
       "    </tr>\n",
       "    <tr>\n",
       "      <th>164986</th>\n",
       "      <td>ITA</td>\n",
       "      <td>Europe</td>\n",
       "      <td>Italy</td>\n",
       "      <td>2022-01-04</td>\n",
       "      <td>6267035.0</td>\n",
       "      <td>0.0</td>\n",
       "      <td>92086.286</td>\n",
       "      <td>137513.0</td>\n",
       "      <td>0.0</td>\n",
       "      <td>140.429</td>\n",
       "      <td>...</td>\n",
       "      <td>27.8</td>\n",
       "      <td>NaN</td>\n",
       "      <td>3.18</td>\n",
       "      <td>83.51</td>\n",
       "      <td>0.892</td>\n",
       "      <td>59037472.0</td>\n",
       "      <td>NaN</td>\n",
       "      <td>NaN</td>\n",
       "      <td>NaN</td>\n",
       "      <td>NaN</td>\n",
       "    </tr>\n",
       "    <tr>\n",
       "      <th>164987</th>\n",
       "      <td>ITA</td>\n",
       "      <td>Europe</td>\n",
       "      <td>Italy</td>\n",
       "      <td>2022-01-05</td>\n",
       "      <td>6267035.0</td>\n",
       "      <td>0.0</td>\n",
       "      <td>92086.286</td>\n",
       "      <td>137513.0</td>\n",
       "      <td>0.0</td>\n",
       "      <td>140.429</td>\n",
       "      <td>...</td>\n",
       "      <td>27.8</td>\n",
       "      <td>NaN</td>\n",
       "      <td>3.18</td>\n",
       "      <td>83.51</td>\n",
       "      <td>0.892</td>\n",
       "      <td>59037472.0</td>\n",
       "      <td>NaN</td>\n",
       "      <td>NaN</td>\n",
       "      <td>NaN</td>\n",
       "      <td>NaN</td>\n",
       "    </tr>\n",
       "    <tr>\n",
       "      <th>...</th>\n",
       "      <td>...</td>\n",
       "      <td>...</td>\n",
       "      <td>...</td>\n",
       "      <td>...</td>\n",
       "      <td>...</td>\n",
       "      <td>...</td>\n",
       "      <td>...</td>\n",
       "      <td>...</td>\n",
       "      <td>...</td>\n",
       "      <td>...</td>\n",
       "      <td>...</td>\n",
       "      <td>...</td>\n",
       "      <td>...</td>\n",
       "      <td>...</td>\n",
       "      <td>...</td>\n",
       "      <td>...</td>\n",
       "      <td>...</td>\n",
       "      <td>...</td>\n",
       "      <td>...</td>\n",
       "      <td>...</td>\n",
       "      <td>...</td>\n",
       "    </tr>\n",
       "    <tr>\n",
       "      <th>165343</th>\n",
       "      <td>ITA</td>\n",
       "      <td>Europe</td>\n",
       "      <td>Italy</td>\n",
       "      <td>2022-12-27</td>\n",
       "      <td>25060503.0</td>\n",
       "      <td>0.0</td>\n",
       "      <td>18918.143</td>\n",
       "      <td>184168.0</td>\n",
       "      <td>0.0</td>\n",
       "      <td>114.000</td>\n",
       "      <td>...</td>\n",
       "      <td>27.8</td>\n",
       "      <td>NaN</td>\n",
       "      <td>3.18</td>\n",
       "      <td>83.51</td>\n",
       "      <td>0.892</td>\n",
       "      <td>59037472.0</td>\n",
       "      <td>NaN</td>\n",
       "      <td>NaN</td>\n",
       "      <td>NaN</td>\n",
       "      <td>NaN</td>\n",
       "    </tr>\n",
       "    <tr>\n",
       "      <th>165344</th>\n",
       "      <td>ITA</td>\n",
       "      <td>Europe</td>\n",
       "      <td>Italy</td>\n",
       "      <td>2022-12-28</td>\n",
       "      <td>25060503.0</td>\n",
       "      <td>0.0</td>\n",
       "      <td>18918.143</td>\n",
       "      <td>184168.0</td>\n",
       "      <td>0.0</td>\n",
       "      <td>114.000</td>\n",
       "      <td>...</td>\n",
       "      <td>27.8</td>\n",
       "      <td>NaN</td>\n",
       "      <td>3.18</td>\n",
       "      <td>83.51</td>\n",
       "      <td>0.892</td>\n",
       "      <td>59037472.0</td>\n",
       "      <td>NaN</td>\n",
       "      <td>NaN</td>\n",
       "      <td>NaN</td>\n",
       "      <td>NaN</td>\n",
       "    </tr>\n",
       "    <tr>\n",
       "      <th>165345</th>\n",
       "      <td>ITA</td>\n",
       "      <td>Europe</td>\n",
       "      <td>Italy</td>\n",
       "      <td>2022-12-29</td>\n",
       "      <td>25060503.0</td>\n",
       "      <td>0.0</td>\n",
       "      <td>18918.143</td>\n",
       "      <td>184168.0</td>\n",
       "      <td>0.0</td>\n",
       "      <td>114.000</td>\n",
       "      <td>...</td>\n",
       "      <td>27.8</td>\n",
       "      <td>NaN</td>\n",
       "      <td>3.18</td>\n",
       "      <td>83.51</td>\n",
       "      <td>0.892</td>\n",
       "      <td>59037472.0</td>\n",
       "      <td>NaN</td>\n",
       "      <td>NaN</td>\n",
       "      <td>NaN</td>\n",
       "      <td>NaN</td>\n",
       "    </tr>\n",
       "    <tr>\n",
       "      <th>165346</th>\n",
       "      <td>ITA</td>\n",
       "      <td>Europe</td>\n",
       "      <td>Italy</td>\n",
       "      <td>2022-12-30</td>\n",
       "      <td>25060503.0</td>\n",
       "      <td>0.0</td>\n",
       "      <td>18918.143</td>\n",
       "      <td>184168.0</td>\n",
       "      <td>0.0</td>\n",
       "      <td>114.000</td>\n",
       "      <td>...</td>\n",
       "      <td>27.8</td>\n",
       "      <td>NaN</td>\n",
       "      <td>3.18</td>\n",
       "      <td>83.51</td>\n",
       "      <td>0.892</td>\n",
       "      <td>59037472.0</td>\n",
       "      <td>NaN</td>\n",
       "      <td>NaN</td>\n",
       "      <td>NaN</td>\n",
       "      <td>NaN</td>\n",
       "    </tr>\n",
       "    <tr>\n",
       "      <th>165347</th>\n",
       "      <td>ITA</td>\n",
       "      <td>Europe</td>\n",
       "      <td>Italy</td>\n",
       "      <td>2022-12-31</td>\n",
       "      <td>25060503.0</td>\n",
       "      <td>0.0</td>\n",
       "      <td>18918.143</td>\n",
       "      <td>184168.0</td>\n",
       "      <td>0.0</td>\n",
       "      <td>114.000</td>\n",
       "      <td>...</td>\n",
       "      <td>27.8</td>\n",
       "      <td>NaN</td>\n",
       "      <td>3.18</td>\n",
       "      <td>83.51</td>\n",
       "      <td>0.892</td>\n",
       "      <td>59037472.0</td>\n",
       "      <td>NaN</td>\n",
       "      <td>NaN</td>\n",
       "      <td>NaN</td>\n",
       "      <td>NaN</td>\n",
       "    </tr>\n",
       "  </tbody>\n",
       "</table>\n",
       "<p>365 rows × 67 columns</p>\n",
       "</div>"
      ],
      "text/plain": [
       "       iso_code continent location       date  total_cases  new_cases  \\\n",
       "164983      ITA    Europe    Italy 2022-01-01    5622431.0        0.0   \n",
       "164984      ITA    Europe    Italy 2022-01-02    6267035.0   644604.0   \n",
       "164985      ITA    Europe    Italy 2022-01-03    6267035.0        0.0   \n",
       "164986      ITA    Europe    Italy 2022-01-04    6267035.0        0.0   \n",
       "164987      ITA    Europe    Italy 2022-01-05    6267035.0        0.0   \n",
       "...         ...       ...      ...        ...          ...        ...   \n",
       "165343      ITA    Europe    Italy 2022-12-27   25060503.0        0.0   \n",
       "165344      ITA    Europe    Italy 2022-12-28   25060503.0        0.0   \n",
       "165345      ITA    Europe    Italy 2022-12-29   25060503.0        0.0   \n",
       "165346      ITA    Europe    Italy 2022-12-30   25060503.0        0.0   \n",
       "165347      ITA    Europe    Italy 2022-12-31   25060503.0        0.0   \n",
       "\n",
       "        new_cases_smoothed  total_deaths  new_deaths  new_deaths_smoothed  \\\n",
       "164983           36797.000      136530.0         0.0              140.857   \n",
       "164984           92086.286      137513.0       983.0              140.429   \n",
       "164985           92086.286      137513.0         0.0              140.429   \n",
       "164986           92086.286      137513.0         0.0              140.429   \n",
       "164987           92086.286      137513.0         0.0              140.429   \n",
       "...                    ...           ...         ...                  ...   \n",
       "165343           18918.143      184168.0         0.0              114.000   \n",
       "165344           18918.143      184168.0         0.0              114.000   \n",
       "165345           18918.143      184168.0         0.0              114.000   \n",
       "165346           18918.143      184168.0         0.0              114.000   \n",
       "165347           18918.143      184168.0         0.0              114.000   \n",
       "\n",
       "        ...  male_smokers  handwashing_facilities  hospital_beds_per_thousand  \\\n",
       "164983  ...          27.8                     NaN                        3.18   \n",
       "164984  ...          27.8                     NaN                        3.18   \n",
       "164985  ...          27.8                     NaN                        3.18   \n",
       "164986  ...          27.8                     NaN                        3.18   \n",
       "164987  ...          27.8                     NaN                        3.18   \n",
       "...     ...           ...                     ...                         ...   \n",
       "165343  ...          27.8                     NaN                        3.18   \n",
       "165344  ...          27.8                     NaN                        3.18   \n",
       "165345  ...          27.8                     NaN                        3.18   \n",
       "165346  ...          27.8                     NaN                        3.18   \n",
       "165347  ...          27.8                     NaN                        3.18   \n",
       "\n",
       "        life_expectancy  human_development_index  population  \\\n",
       "164983            83.51                    0.892  59037472.0   \n",
       "164984            83.51                    0.892  59037472.0   \n",
       "164985            83.51                    0.892  59037472.0   \n",
       "164986            83.51                    0.892  59037472.0   \n",
       "164987            83.51                    0.892  59037472.0   \n",
       "...                 ...                      ...         ...   \n",
       "165343            83.51                    0.892  59037472.0   \n",
       "165344            83.51                    0.892  59037472.0   \n",
       "165345            83.51                    0.892  59037472.0   \n",
       "165346            83.51                    0.892  59037472.0   \n",
       "165347            83.51                    0.892  59037472.0   \n",
       "\n",
       "        excess_mortality_cumulative_absolute  excess_mortality_cumulative  \\\n",
       "164983                                   NaN                          NaN   \n",
       "164984                              168226.3                        12.99   \n",
       "164985                                   NaN                          NaN   \n",
       "164986                                   NaN                          NaN   \n",
       "164987                                   NaN                          NaN   \n",
       "...                                      ...                          ...   \n",
       "165343                                   NaN                          NaN   \n",
       "165344                                   NaN                          NaN   \n",
       "165345                                   NaN                          NaN   \n",
       "165346                                   NaN                          NaN   \n",
       "165347                                   NaN                          NaN   \n",
       "\n",
       "        excess_mortality  excess_mortality_cumulative_per_million  \n",
       "164983               NaN                                      NaN  \n",
       "164984              8.06                                2849.4834  \n",
       "164985               NaN                                      NaN  \n",
       "164986               NaN                                      NaN  \n",
       "164987               NaN                                      NaN  \n",
       "...                  ...                                      ...  \n",
       "165343               NaN                                      NaN  \n",
       "165344               NaN                                      NaN  \n",
       "165345               NaN                                      NaN  \n",
       "165346               NaN                                      NaN  \n",
       "165347               NaN                                      NaN  \n",
       "\n",
       "[365 rows x 67 columns]"
      ]
     },
     "execution_count": 10,
     "metadata": {},
     "output_type": "execute_result"
    }
   ],
   "source": [
    "covid.date.dt.year\n",
    "filtro2022=covid.date.dt.year==2022\n",
    "filtroITA=covid.location== \"Italy\"\n",
    "Italia=filtro2022 & filtroITA\n",
    "ita2022=covid.loc[Italia]\n",
    "ita2022"
   ]
  },
  {
   "cell_type": "code",
   "execution_count": 11,
   "id": "eb4e5d7c-4c7a-4700-819d-eb942752b818",
   "metadata": {},
   "outputs": [
    {
     "data": {
      "text/plain": [
       "[<matplotlib.lines.Line2D at 0x20b73507310>]"
      ]
     },
     "execution_count": 11,
     "metadata": {},
     "output_type": "execute_result"
    },
    {
     "data": {
      "image/png": "[encoded data removed]",
      "text/plain": [
       "<Figure size 640x480 with 1 Axes>"
      ]
     },
     "metadata": {},
     "output_type": "display_data"
    }
   ],
   "source": [
    "covid.loc[Italia]\n",
    "import matplotlib.pyplot as plt\n",
    "plt.plot(ita2022[\"date\"], ita2022[\"total_cases\"])"
   ]
  },
  {
   "cell_type": "code",
   "execution_count": 12,
   "id": "e1974abd-f799-4038-b899-2f7f3223766e",
   "metadata": {},
   "outputs": [
    {
     "data": {
      "text/plain": [
       "[<matplotlib.lines.Line2D at 0x20b08e830d0>]"
      ]
     },
     "execution_count": 12,
     "metadata": {},
     "output_type": "execute_result"
    },
    {
     "data": {
      "image/png": "[encoded data removed]",
      "text/plain": [
       "<Figure size 640x480 with 1 Axes>"
      ]
     },
     "metadata": {},
     "output_type": "display_data"
    }
   ],
   "source": [
    "#II)\n",
    "plt.plot(ita2022[\"date\"],ita2022[\"new_cases\"])"
   ]
  },
  {
   "cell_type": "code",
   "execution_count": 13,
   "id": "25c27259-683f-4abf-b6fe-a9f7fcb1f70e",
   "metadata": {},
   "outputs": [
    {
     "data": {
      "text/plain": [
       "<Axes: >"
      ]
     },
     "execution_count": 13,
     "metadata": {},
     "output_type": "execute_result"
    },
    {
     "data": {
      "image/png": "[encoded data removed]",
      "text/plain": [
       "<Figure size 640x480 with 1 Axes>"
      ]
     },
     "metadata": {},
     "output_type": "display_data"
    }
   ],
   "source": [
    "#III)\n",
    "covid[\"progressivo\"] = covid.new_cases.cumsum()\n",
    "covid.progressivo.plot(kind=\"line\")"
   ]
  },
  {
   "cell_type": "markdown",
   "id": "786347c6-ddb9-4a3b-89a8-9b13aaadad8f",
   "metadata": {},
   "source": [
    "#commento 5 - Dal grafico si vede che all'aumentare dei casi totali in Italia nel 2022 si ha un aumento della somma cumulativa dei nuovi casi nel 2022."
   ]
  },
  {
   "cell_type": "code",
   "execution_count": 14,
   "id": "ae60dd37-ac13-40f9-b485-6cc50b02d226",
   "metadata": {},
   "outputs": [],
   "source": [
    "#6\n",
    "FiltroITA=covid.location==\"Italy\"\n",
    "FiltroFRA=covid.location==\"France\"\n",
    "FiltroGerm=covid.location==\"Germany\"\n",
    "Filtro3Nazioni = FiltroITA | FiltroFRA | FiltroGerm\n",
    "filtro6 = covid[Filtro3Nazioni &  ((covid.date.dt.year == 2022) & (covid.date.dt.month >= 5) | (covid.date.dt.year == 2023) & (covid.date.dt.month <= 4))]"
   ]
  },
  {
   "cell_type": "code",
   "execution_count": 15,
   "id": "956b01f7-1e63-4d33-b4b7-34a744d3c0fb",
   "metadata": {},
   "outputs": [
    {
     "data": {
      "text/plain": [
       "<Axes: xlabel='icu_patients', ylabel='location'>"
      ]
     },
     "execution_count": 15,
     "metadata": {},
     "output_type": "execute_result"
    },
    {
     "data": {
      "image/png": "[encoded data removed]",
      "text/plain": [
       "<Figure size 640x480 with 1 Axes>"
      ]
     },
     "metadata": {},
     "output_type": "display_data"
    }
   ],
   "source": [
    "sns.boxplot (data=filtro6, x=\"icu_patients\", y=\"location\")"
   ]
  },
  {
   "cell_type": "markdown",
   "id": "10056c3e-d2cf-45da-bce8-9e415f003e32",
   "metadata": {},
   "source": [
    "#commento 6 - Dal grafico si può notare che l'Italia ha avuto un minor numero pazienti in terapia intensiva nel periodo selezionato rispetto agli altri paesi (Francia e Germania) che hanno avuto un andamento quasi uguale, ma che in termini assoluti la Germania ha avuto più pazienti in terapia intensiva."
   ]
  },
  {
   "cell_type": "code",
   "execution_count": 17,
   "id": "b844862f-28fe-416b-ba47-6bfad059a70c",
   "metadata": {},
   "outputs": [
    {
     "data": {
      "text/plain": [
       "843"
      ]
     },
     "execution_count": 17,
     "metadata": {},
     "output_type": "execute_result"
    }
   ],
   "source": [
    "#7\n",
    "FiltroSpa=covid.location==\"Spain\"\n",
    "Filtro4Naz = FiltroITA | FiltroFRA | FiltroGerm | FiltroSpa\n",
    "Anno23 = covid.date.dt.year == 2023\n",
    "Filtro4Naz2023 = Filtro4Naz & Anno23\n",
    "#somma valori nulli in hosp_patients\n",
    "covid.loc[Filtro4Naz2023, 'hosp_patients'].isna().sum()"
   ]
  },
  {
   "cell_type": "code",
   "execution_count": 18,
   "id": "aaf382ab-6e0a-42ca-bd8b-7937fb185bd4",
   "metadata": {},
   "outputs": [
    {
     "data": {
      "text/plain": [
       "343889"
      ]
     },
     "execution_count": 18,
     "metadata": {},
     "output_type": "execute_result"
    }
   ],
   "source": [
    "#somma valori nulli tot in hosp_patients\n",
    "covid[\"hosp_patients\"].isna().sum()"
   ]
  },
  {
   "cell_type": "code",
   "execution_count": 19,
   "id": "adbc8172-f032-42ef-ae74-de7bae917cd4",
   "metadata": {},
   "outputs": [],
   "source": [
    "Ita23 = FiltroITA & Anno23\n",
    "Fra23 = FiltroFRA & Anno23\n",
    "Ger23 = FiltroGerm & Anno23\n",
    "Spa23 = FiltroSpa & Anno23"
   ]
  },
  {
   "cell_type": "code",
   "execution_count": 20,
   "id": "3767e016-f365-41a6-aece-6bad2d351544",
   "metadata": {},
   "outputs": [
    {
     "data": {
      "text/plain": [
       "1175272.0"
      ]
     },
     "execution_count": 20,
     "metadata": {},
     "output_type": "execute_result"
    }
   ],
   "source": [
    "covid.loc[Ita23, 'hosp_patients'].sum()"
   ]
  },
  {
   "cell_type": "code",
   "execution_count": 21,
   "id": "1e3182c4-931d-4e37-93e7-94e98eaf5eb1",
   "metadata": {},
   "outputs": [
    {
     "data": {
      "text/plain": [
       "1382574.0"
      ]
     },
     "execution_count": 21,
     "metadata": {},
     "output_type": "execute_result"
    }
   ],
   "source": [
    "covid.loc[Fra23, 'hosp_patients'].sum()"
   ]
  },
  {
   "cell_type": "code",
   "execution_count": 23,
   "id": "bb88baf0-e5a0-4794-9a3e-0072851edf5c",
   "metadata": {},
   "outputs": [
    {
     "data": {
      "text/plain": [
       "0.0"
      ]
     },
     "execution_count": 23,
     "metadata": {},
     "output_type": "execute_result"
    }
   ],
   "source": [
    "covid.loc[Ger23, 'hosp_patients'].sum()"
   ]
  },
  {
   "cell_type": "code",
   "execution_count": 22,
   "id": "0b6b8242-808c-455f-94f4-3d87417855d5",
   "metadata": {},
   "outputs": [
    {
     "data": {
      "text/plain": [
       "354602.0"
      ]
     },
     "execution_count": 22,
     "metadata": {},
     "output_type": "execute_result"
    }
   ],
   "source": [
    "covid.loc[Spa23, 'hosp_patients'].sum()"
   ]
  },
  {
   "cell_type": "markdown",
   "id": "598245c6-91c1-4e73-9c3f-8672c659f15d",
   "metadata": {},
   "source": [
    "#commento 7 - Delle interrogazioni effettuate sul db \"covid\" si potrebbe sostituire i dati nulli con il valore 0."
   ]
  }
 ],
 "metadata": {
  "kernelspec": {
   "display_name": "Python 3 (ipykernel)",
   "language": "python",
   "name": "python3"
  },
  "language_info": {
   "codemirror_mode": {
    "name": "ipython",
    "version": 3
   },
   "file_extension": ".py",
   "mimetype": "text/x-python",
   "name": "python",
   "nbconvert_exporter": "python",
   "pygments_lexer": "ipython3",
   "version": "3.11.7"
  }
 },
 "nbformat": 4,
 "nbformat_minor": 5
}
